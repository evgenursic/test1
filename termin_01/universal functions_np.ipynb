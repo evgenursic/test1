{
 "cells": [
  {
   "cell_type": "code",
   "execution_count": 74,
   "id": "4d418e80",
   "metadata": {},
   "outputs": [],
   "source": [
    "#Convert a list of lists into a ndarraytaxi[0]\n",
    "\n",
    "import numpy as np\n",
    "\n",
    "f = open(\"/home/evgen/data/taxi_data.csv\", \"r\")\n",
    "\n",
    "taxi_list = list(csv.reader(f))\n",
    "\n",
    "taxi = np.array(taxi_list)"
   ]
  },
  {
   "cell_type": "code",
   "execution_count": 73,
   "id": "723853ea",
   "metadata": {},
   "outputs": [
    {
     "data": {
      "text/plain": [
       "(490348, 19)"
      ]
     },
     "execution_count": 73,
     "metadata": {},
     "output_type": "execute_result"
    }
   ],
   "source": [
    "taxi.shape"
   ]
  },
  {
   "cell_type": "code",
   "execution_count": 77,
   "id": "d51c3582",
   "metadata": {},
   "outputs": [
    {
     "data": {
      "text/plain": [
       "array([['', 'vendor_id', 'pickup_datetime', 'dropoff_datetime',\n",
       "        'passenger_count', 'trip_distance', 'pickup_longitude',\n",
       "        'pickup_latitude', 'rate_code', 'store_and_fwd_flag',\n",
       "        'dropoff_longitude', 'dropoff_latitude', 'payment_type',\n",
       "        'fare_amount', 'surcharge', 'mta_tax', 'tip_amount',\n",
       "        'tolls_amount', 'total_amount'],\n",
       "       ['0', 'VTS', '2013-05-14 18:31:00', '2013-05-14 19:18:00', '1',\n",
       "        '17.47', '-74.004052', '40.742767', '2', '', '-73.78258',\n",
       "        '40.644107', 'CSH', '52.0', '0.0', '0.5', '0.0', '0.0', '52.5'],\n",
       "       ['1', 'VTS', '2013-05-14 19:24:00', '2013-05-14 19:34:00', '2',\n",
       "        '1.6', '0.0', '73.971158', '1', '', '-73.979937', '40.78036',\n",
       "        'CSH', '8.5', '1.0', '0.5', '0.0', '0.0', '10.0'],\n",
       "       ['2', 'VTS', '2013-05-14 19:57:00', '2013-05-14 20:01:00', '2',\n",
       "        '1.1', '0.0', '0.0', '1', '', '0.0', '0.0', 'CRD', '5.5', '1.0',\n",
       "        '0.5', '1.25', '0.0', '8.25']], dtype='<U19')"
      ]
     },
     "execution_count": 77,
     "metadata": {},
     "output_type": "execute_result"
    }
   ],
   "source": [
    "#Selecting multiple rows from a ndarray\n",
    "taxi[:4]"
   ]
  },
  {
   "cell_type": "code",
   "execution_count": 92,
   "id": "d3cb0601",
   "metadata": {},
   "outputs": [
    {
     "data": {
      "text/plain": [
       "array([['1', 'VTS', '2013-05-14 19:24:00', ..., '0.0', '0.0', '10.0'],\n",
       "       ['2', 'VTS', '2013-05-14 19:57:00', ..., '1.25', '0.0', '8.25'],\n",
       "       ['3', 'VTS', '2013-05-14 05:46:00', ..., '0.0', '0.0', '16.5'],\n",
       "       ...,\n",
       "       ['490344', 'CMT', '2013-05-14 20:35:36', ..., '0.0', '0.0', '6.5'],\n",
       "       ['490345', 'CMT', '2013-05-14 20:35:30', ..., '0.0', '0.0', '6.0'],\n",
       "       ['490346', 'CMT', '2013-05-14 20:39:34', ..., '0.0', '0.0',\n",
       "        '15.5']], dtype='<U19')"
      ]
     },
     "execution_count": 92,
     "metadata": {},
     "output_type": "execute_result"
    }
   ],
   "source": [
    "taxi[2:]"
   ]
  },
  {
   "cell_type": "code",
   "execution_count": 93,
   "id": "2829a97c",
   "metadata": {},
   "outputs": [
    {
     "data": {
      "text/plain": [
       "'VTS'"
      ]
     },
     "execution_count": 93,
     "metadata": {},
     "output_type": "execute_result"
    }
   ],
   "source": [
    "#Selecting a specific item from a ndarray:\n",
    "taxi[4,1]"
   ]
  },
  {
   "cell_type": "code",
   "execution_count": 85,
   "id": "25ed96ac",
   "metadata": {},
   "outputs": [
    {
     "data": {
      "text/plain": [
       "array(['pickup_longitude', '-74.004052', '0.0', ..., '-74.007057',\n",
       "       '-73.987804', '-73.998985'], dtype='<U19')"
      ]
     },
     "execution_count": 85,
     "metadata": {},
     "output_type": "execute_result"
    }
   ],
   "source": [
    "#Selecting a single column\n",
    "col1 = taxi[:,6]\n",
    "col2 = taxi[:,8]\n",
    "col3 = taxi[:,11]\n",
    "\n",
    "#sums = col1+col2+col3\n",
    "#sums\n",
    "col1\n"
   ]
  },
  {
   "cell_type": "code",
   "execution_count": 86,
   "id": "2829ac02",
   "metadata": {},
   "outputs": [
    {
     "data": {
      "text/plain": [
       "array(['rate_code', '2', '1', ..., '1', '1', '1'], dtype='<U19')"
      ]
     },
     "execution_count": 86,
     "metadata": {},
     "output_type": "execute_result"
    }
   ],
   "source": [
    "col2"
   ]
  },
  {
   "cell_type": "code",
   "execution_count": 94,
   "id": "b7465c4e",
   "metadata": {},
   "outputs": [
    {
     "data": {
      "text/plain": [
       "array(['dropoff_latitude', '40.644107', '40.78036', ..., '40.71979',\n",
       "       '40.74353', '40.776088'], dtype='<U19')"
      ]
     },
     "execution_count": 94,
     "metadata": {},
     "output_type": "execute_result"
    }
   ],
   "source": [
    "col3"
   ]
  },
  {
   "cell_type": "code",
   "execution_count": 96,
   "id": "b1289104",
   "metadata": {},
   "outputs": [
    {
     "data": {
      "text/plain": [
       "array([['vendor_id', 'pickup_datetime'],\n",
       "       ['VTS', '2013-05-14 18:31:00'],\n",
       "       ['VTS', '2013-05-14 19:24:00'],\n",
       "       ...,\n",
       "       ['CMT', '2013-05-14 20:35:36'],\n",
       "       ['CMT', '2013-05-14 20:35:30'],\n",
       "       ['CMT', '2013-05-14 20:39:34']], dtype='<U19')"
      ]
     },
     "execution_count": 96,
     "metadata": {},
     "output_type": "execute_result"
    }
   ],
   "source": [
    "#Selecting multiple columns:\n",
    "taxi[:,1:3]"
   ]
  },
  {
   "cell_type": "code",
   "execution_count": 98,
   "id": "40a5c99b",
   "metadata": {},
   "outputs": [
    {
     "data": {
      "text/plain": [
       "array([['0', 'VTS', '2013-05-14 18:31:00'],\n",
       "       ['1', 'VTS', '2013-05-14 19:24:00'],\n",
       "       ['2', 'VTS', '2013-05-14 19:57:00']], dtype='<U19')"
      ]
     },
     "execution_count": 98,
     "metadata": {},
     "output_type": "execute_result"
    }
   ],
   "source": [
    "#Selecting a 2D slice:\n",
    "taxi[1:4,:3]"
   ]
  },
  {
   "cell_type": "code",
   "execution_count": 88,
   "id": "cab4e06c",
   "metadata": {},
   "outputs": [
    {
     "data": {
      "text/plain": [
       "array([['', '0', '1', ..., '490344', '490345', '490346'],\n",
       "       ['vendor_id', 'VTS', 'VTS', ..., 'CMT', 'CMT', 'CMT'],\n",
       "       ['pickup_datetime', '2013-05-14 18:31:00', '2013-05-14 19:24:00',\n",
       "        ..., '2013-05-14 20:35:36', '2013-05-14 20:35:30',\n",
       "        '2013-05-14 20:39:34'],\n",
       "       ...,\n",
       "       ['tip_amount', '0.0', '0.0', ..., '0.0', '0.0', '0.0'],\n",
       "       ['tolls_amount', '0.0', '0.0', ..., '0.0', '0.0', '0.0'],\n",
       "       ['total_amount', '52.5', '10.0', ..., '6.5', '6.0', '15.5']],\n",
       "      dtype='<U19')"
      ]
     },
     "execution_count": 88,
     "metadata": {},
     "output_type": "execute_result"
    }
   ],
   "source": [
    "taxi.T"
   ]
  },
  {
   "cell_type": "code",
   "execution_count": 99,
   "id": "dd230b28",
   "metadata": {},
   "outputs": [],
   "source": [
    "trip_distance = taxi[:,5]\n",
    "trip_price = taxi[:,18]"
   ]
  },
  {
   "cell_type": "code",
   "execution_count": 91,
   "id": "afb9135d",
   "metadata": {},
   "outputs": [
    {
     "data": {
      "text/plain": [
       "array(['trip_distance', '17.47', '1.6', ..., '1.0', '0.8', '4.6'],\n",
       "      dtype='<U19')"
      ]
     },
     "execution_count": 91,
     "metadata": {},
     "output_type": "execute_result"
    }
   ],
   "source": [
    "trip_distance"
   ]
  },
  {
   "cell_type": "code",
   "execution_count": 100,
   "id": "40886c3b",
   "metadata": {},
   "outputs": [
    {
     "data": {
      "text/plain": [
       "array(['total_amount', '52.5', '10.0', ..., '6.5', '6.0', '15.5'],\n",
       "      dtype='<U19')"
      ]
     },
     "execution_count": 100,
     "metadata": {},
     "output_type": "execute_result"
    }
   ],
   "source": [
    "trip_price"
   ]
  },
  {
   "cell_type": "code",
   "execution_count": null,
   "id": "6e6a0b37",
   "metadata": {},
   "outputs": [],
   "source": []
  }
 ],
 "metadata": {
  "kernelspec": {
   "display_name": "Python 3 (ipykernel)",
   "language": "python",
   "name": "python3"
  },
  "language_info": {
   "codemirror_mode": {
    "name": "ipython",
    "version": 3
   },
   "file_extension": ".py",
   "mimetype": "text/x-python",
   "name": "python",
   "nbconvert_exporter": "python",
   "pygments_lexer": "ipython3",
   "version": "3.9.7"
  }
 },
 "nbformat": 4,
 "nbformat_minor": 5
}
